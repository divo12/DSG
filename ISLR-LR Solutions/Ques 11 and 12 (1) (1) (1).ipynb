{
 "cells": [
  {
   "cell_type": "code",
   "execution_count": 24,
   "metadata": {},
   "outputs": [],
   "source": [
    "#Ques 11\n",
    "import pandas as pd  \n",
    "import numpy as np  \n",
    "import matplotlib.pyplot as plt  \n",
    "import seaborn as seabornInstance \n",
    "from sklearn.model_selection import train_test_split \n",
    "from sklearn.linear_model import LinearRegression\n",
    "from sklearn import metrics\n",
    "import statsmodels.api as sm\n",
    "from patsy import dmatrices\n",
    "import random as rn"
   ]
  },
  {
   "cell_type": "code",
   "execution_count": 25,
   "metadata": {},
   "outputs": [],
   "source": [
    "#Seed function is used to save the state of a random function, so that it can generate same random numbers on multiple executions of the code on the same machine or on different machines (for a specific seed value)\n",
    "rn.seed(1)"
   ]
  },
  {
   "cell_type": "code",
   "execution_count": 26,
   "metadata": {},
   "outputs": [],
   "source": [
    "x=np.random.normal(0,1,100)"
   ]
  },
  {
   "cell_type": "code",
   "execution_count": 27,
   "metadata": {},
   "outputs": [],
   "source": [
    "y=2*x+np.random.normal(0,1,100)"
   ]
  },
  {
   "cell_type": "code",
   "execution_count": 28,
   "metadata": {},
   "outputs": [],
   "source": [
    "x2=x#storing x and y in temp x2,y2\n",
    "y2=y"
   ]
  },
  {
   "cell_type": "code",
   "execution_count": 29,
   "metadata": {},
   "outputs": [],
   "source": [
    "mod=sm.OLS(y,x)"
   ]
  },
  {
   "cell_type": "code",
   "execution_count": 30,
   "metadata": {},
   "outputs": [],
   "source": [
    "res=mod.fit()"
   ]
  },
  {
   "cell_type": "code",
   "execution_count": 31,
   "metadata": {},
   "outputs": [
    {
     "name": "stdout",
     "output_type": "stream",
     "text": [
      "                                 OLS Regression Results                                \n",
      "=======================================================================================\n",
      "Dep. Variable:                      y   R-squared (uncentered):                   0.817\n",
      "Model:                            OLS   Adj. R-squared (uncentered):              0.815\n",
      "Method:                 Least Squares   F-statistic:                              440.9\n",
      "Date:                Sun, 11 Apr 2021   Prob (F-statistic):                    3.04e-38\n",
      "Time:                        04:26:39   Log-Likelihood:                         -129.41\n",
      "No. Observations:                 100   AIC:                                      260.8\n",
      "Df Residuals:                      99   BIC:                                      263.4\n",
      "Df Model:                           1                                                  \n",
      "Covariance Type:            nonrobust                                                  \n",
      "==============================================================================\n",
      "                 coef    std err          t      P>|t|      [0.025      0.975]\n",
      "------------------------------------------------------------------------------\n",
      "x1             1.8981      0.090     20.997      0.000       1.719       2.077\n",
      "==============================================================================\n",
      "Omnibus:                        0.226   Durbin-Watson:                   1.789\n",
      "Prob(Omnibus):                  0.893   Jarque-Bera (JB):                0.032\n",
      "Skew:                           0.031   Prob(JB):                        0.984\n",
      "Kurtosis:                       3.063   Cond. No.                         1.00\n",
      "==============================================================================\n",
      "\n",
      "Notes:\n",
      "[1] R² is computed without centering (uncentered) since the model does not contain a constant.\n",
      "[2] Standard Errors assume that the covariance matrix of the errors is correctly specified.\n"
     ]
    }
   ],
   "source": [
    "print(res.summary())#you can check coefficient estimate βˆ, the standard error ofthis coefficient estimate, and the t-statistic and p-value"
   ]
  },
  {
   "cell_type": "code",
   "execution_count": 32,
   "metadata": {},
   "outputs": [],
   "source": [
    "mod2=sm.OLS(x,y)"
   ]
  },
  {
   "cell_type": "code",
   "execution_count": 33,
   "metadata": {},
   "outputs": [
    {
     "name": "stdout",
     "output_type": "stream",
     "text": [
      "                                 OLS Regression Results                                \n",
      "=======================================================================================\n",
      "Dep. Variable:                      y   R-squared (uncentered):                   0.817\n",
      "Model:                            OLS   Adj. R-squared (uncentered):              0.815\n",
      "Method:                 Least Squares   F-statistic:                              440.9\n",
      "Date:                Sun, 11 Apr 2021   Prob (F-statistic):                    3.04e-38\n",
      "Time:                        04:26:43   Log-Likelihood:                         -55.195\n",
      "No. Observations:                 100   AIC:                                      112.4\n",
      "Df Residuals:                      99   BIC:                                      115.0\n",
      "Df Model:                           1                                                  \n",
      "Covariance Type:            nonrobust                                                  \n",
      "==============================================================================\n",
      "                 coef    std err          t      P>|t|      [0.025      0.975]\n",
      "------------------------------------------------------------------------------\n",
      "x1             0.4302      0.020     20.997      0.000       0.390       0.471\n",
      "==============================================================================\n",
      "Omnibus:                        0.108   Durbin-Watson:                   1.809\n",
      "Prob(Omnibus):                  0.947   Jarque-Bera (JB):                0.007\n",
      "Skew:                           0.020   Prob(JB):                        0.997\n",
      "Kurtosis:                       2.998   Cond. No.                         1.00\n",
      "==============================================================================\n",
      "\n",
      "Notes:\n",
      "[1] R² is computed without centering (uncentered) since the model does not contain a constant.\n",
      "[2] Standard Errors assume that the covariance matrix of the errors is correctly specified.\n"
     ]
    }
   ],
   "source": [
    "res2=mod2.fit()\n",
    "print(res2.summary())"
   ]
  },
  {
   "cell_type": "markdown",
   "metadata": {},
   "source": [
    "11c)Both have same t-stat and p-value"
   ]
  },
  {
   "cell_type": "markdown",
   "metadata": {},
   "source": [
    "11d)proved in copy"
   ]
  },
  {
   "cell_type": "markdown",
   "metadata": {},
   "source": [
    "11e)on exchanging value of xand y in the formula,the formula remains the same and hence the value"
   ]
  },
  {
   "cell_type": "code",
   "execution_count": 34,
   "metadata": {},
   "outputs": [
    {
     "name": "stdout",
     "output_type": "stream",
     "text": [
      "                            OLS Regression Results                            \n",
      "==============================================================================\n",
      "Dep. Variable:                      y   R-squared:                       0.816\n",
      "Model:                            OLS   Adj. R-squared:                  0.814\n",
      "Method:                 Least Squares   F-statistic:                     434.0\n",
      "Date:                Sun, 11 Apr 2021   Prob (F-statistic):           8.90e-38\n",
      "Time:                        04:26:56   Log-Likelihood:                -129.36\n",
      "No. Observations:                 100   AIC:                             262.7\n",
      "Df Residuals:                      98   BIC:                             267.9\n",
      "Df Model:                           1                                         \n",
      "Covariance Type:            nonrobust                                         \n",
      "==============================================================================\n",
      "                 coef    std err          t      P>|t|      [0.025      0.975]\n",
      "------------------------------------------------------------------------------\n",
      "const         -0.0266      0.090     -0.298      0.767      -0.204       0.151\n",
      "x1             1.9007      0.091     20.832      0.000       1.720       2.082\n",
      "==============================================================================\n",
      "Omnibus:                        0.227   Durbin-Watson:                   1.791\n",
      "Prob(Omnibus):                  0.893   Jarque-Bera (JB):                0.032\n",
      "Skew:                           0.030   Prob(JB):                        0.984\n",
      "Kurtosis:                       3.064   Cond. No.                         1.10\n",
      "==============================================================================\n",
      "\n",
      "Notes:\n",
      "[1] Standard Errors assume that the covariance matrix of the errors is correctly specified.\n"
     ]
    }
   ],
   "source": [
    "#11f)\n",
    "mod=sm.OLS(y,sm.add_constant(x))\n",
    "res=mod.fit()\n",
    "print(res.summary())"
   ]
  },
  {
   "cell_type": "code",
   "execution_count": 35,
   "metadata": {},
   "outputs": [
    {
     "name": "stdout",
     "output_type": "stream",
     "text": [
      "                            OLS Regression Results                            \n",
      "==============================================================================\n",
      "Dep. Variable:                      y   R-squared:                       0.816\n",
      "Model:                            OLS   Adj. R-squared:                  0.814\n",
      "Method:                 Least Squares   F-statistic:                     434.0\n",
      "Date:                Sun, 11 Apr 2021   Prob (F-statistic):           8.90e-38\n",
      "Time:                        04:27:09   Log-Likelihood:                -54.962\n",
      "No. Observations:                 100   AIC:                             113.9\n",
      "Df Residuals:                      98   BIC:                             119.1\n",
      "Df Model:                           1                                         \n",
      "Covariance Type:            nonrobust                                         \n",
      "==============================================================================\n",
      "                 coef    std err          t      P>|t|      [0.025      0.975]\n",
      "------------------------------------------------------------------------------\n",
      "const          0.0287      0.042      0.676      0.500      -0.056       0.113\n",
      "x1             0.4292      0.021     20.832      0.000       0.388       0.470\n",
      "==============================================================================\n",
      "Omnibus:                        0.107   Durbin-Watson:                   1.818\n",
      "Prob(Omnibus):                  0.948   Jarque-Bera (JB):                0.007\n",
      "Skew:                           0.020   Prob(JB):                        0.997\n",
      "Kurtosis:                       2.997   Cond. No.                         2.07\n",
      "==============================================================================\n",
      "\n",
      "Notes:\n",
      "[1] Standard Errors assume that the covariance matrix of the errors is correctly specified.\n"
     ]
    }
   ],
   "source": [
    "mod=sm.OLS(x2,sm.add_constant(y2))\n",
    "res=mod.fit()\n",
    "print(res.summary())"
   ]
  },
  {
   "cell_type": "code",
   "execution_count": 13,
   "metadata": {},
   "outputs": [],
   "source": [
    "#Question 12"
   ]
  },
  {
   "cell_type": "markdown",
   "metadata": {},
   "source": [
    "12a)Condition: sigma xi^2=sigma yi^2"
   ]
  },
  {
   "cell_type": "markdown",
   "metadata": {},
   "source": [
    "12b)done in 11"
   ]
  },
  {
   "cell_type": "code",
   "execution_count": 14,
   "metadata": {},
   "outputs": [],
   "source": [
    "#12c)\n",
    "rn.seed(1)"
   ]
  },
  {
   "cell_type": "code",
   "execution_count": 15,
   "metadata": {},
   "outputs": [],
   "source": [
    "x=np.random.normal(0,1,100)"
   ]
  },
  {
   "cell_type": "code",
   "execution_count": 16,
   "metadata": {},
   "outputs": [],
   "source": [
    "#Using put value method to do 12c(Method 1)\n",
    "y=-x"
   ]
  },
  {
   "cell_type": "code",
   "execution_count": 17,
   "metadata": {},
   "outputs": [
    {
     "name": "stdout",
     "output_type": "stream",
     "text": [
      "                                 OLS Regression Results                                \n",
      "=======================================================================================\n",
      "Dep. Variable:                      y   R-squared (uncentered):                   1.000\n",
      "Model:                            OLS   Adj. R-squared (uncentered):              1.000\n",
      "Method:                 Least Squares   F-statistic:                          4.172e+33\n",
      "Date:                Sun, 11 Apr 2021   Prob (F-statistic):                        0.00\n",
      "Time:                        03:55:52   Log-Likelihood:                          3492.9\n",
      "No. Observations:                 100   AIC:                                     -6984.\n",
      "Df Residuals:                      99   BIC:                                     -6981.\n",
      "Df Model:                           1                                                  \n",
      "Covariance Type:            nonrobust                                                  \n",
      "==============================================================================\n",
      "                 coef    std err          t      P>|t|      [0.025      0.975]\n",
      "------------------------------------------------------------------------------\n",
      "x1            -1.0000   1.55e-17  -6.46e+16      0.000      -1.000      -1.000\n",
      "==============================================================================\n",
      "Omnibus:                        5.341   Durbin-Watson:                   1.784\n",
      "Prob(Omnibus):                  0.069   Jarque-Bera (JB):                4.695\n",
      "Skew:                          -0.456   Prob(JB):                       0.0956\n",
      "Kurtosis:                       3.542   Cond. No.                         1.00\n",
      "==============================================================================\n",
      "\n",
      "Notes:\n",
      "[1] R² is computed without centering (uncentered) since the model does not contain a constant.\n",
      "[2] Standard Errors assume that the covariance matrix of the errors is correctly specified.\n"
     ]
    }
   ],
   "source": [
    "mod=sm.OLS(x,y)\n",
    "res=mod.fit()\n",
    "print(res.summary())"
   ]
  },
  {
   "cell_type": "code",
   "execution_count": 18,
   "metadata": {},
   "outputs": [
    {
     "name": "stdout",
     "output_type": "stream",
     "text": [
      "                                 OLS Regression Results                                \n",
      "=======================================================================================\n",
      "Dep. Variable:                      y   R-squared (uncentered):                   1.000\n",
      "Model:                            OLS   Adj. R-squared (uncentered):              1.000\n",
      "Method:                 Least Squares   F-statistic:                          4.172e+33\n",
      "Date:                Sun, 11 Apr 2021   Prob (F-statistic):                        0.00\n",
      "Time:                        03:55:52   Log-Likelihood:                          3492.9\n",
      "No. Observations:                 100   AIC:                                     -6984.\n",
      "Df Residuals:                      99   BIC:                                     -6981.\n",
      "Df Model:                           1                                                  \n",
      "Covariance Type:            nonrobust                                                  \n",
      "==============================================================================\n",
      "                 coef    std err          t      P>|t|      [0.025      0.975]\n",
      "------------------------------------------------------------------------------\n",
      "x1            -1.0000   1.55e-17  -6.46e+16      0.000      -1.000      -1.000\n",
      "==============================================================================\n",
      "Omnibus:                        5.341   Durbin-Watson:                   1.784\n",
      "Prob(Omnibus):                  0.069   Jarque-Bera (JB):                4.695\n",
      "Skew:                           0.456   Prob(JB):                       0.0956\n",
      "Kurtosis:                       3.542   Cond. No.                         1.00\n",
      "==============================================================================\n",
      "\n",
      "Notes:\n",
      "[1] R² is computed without centering (uncentered) since the model does not contain a constant.\n",
      "[2] Standard Errors assume that the covariance matrix of the errors is correctly specified.\n"
     ]
    }
   ],
   "source": [
    "mod=sm.OLS(y,x)\n",
    "res=mod.fit()\n",
    "print(res.summary())"
   ]
  },
  {
   "cell_type": "code",
   "execution_count": 19,
   "metadata": {},
   "outputs": [],
   "source": [
    "#Using np.random.permutation to permutate the sequence of x in y in 12c(Method 2)\n",
    "rn.seed(1)\n",
    "x=np.random.normal(0,1,100)\n",
    "y=np.random.permutation(x)"
   ]
  },
  {
   "cell_type": "code",
   "execution_count": 20,
   "metadata": {},
   "outputs": [
    {
     "name": "stdout",
     "output_type": "stream",
     "text": [
      "                                 OLS Regression Results                                \n",
      "=======================================================================================\n",
      "Dep. Variable:                      y   R-squared (uncentered):                   0.013\n",
      "Model:                            OLS   Adj. R-squared (uncentered):              0.003\n",
      "Method:                 Least Squares   F-statistic:                              1.263\n",
      "Date:                Sun, 11 Apr 2021   Prob (F-statistic):                       0.264\n",
      "Time:                        03:55:52   Log-Likelihood:                         -139.31\n",
      "No. Observations:                 100   AIC:                                      280.6\n",
      "Df Residuals:                      99   BIC:                                      283.2\n",
      "Df Model:                           1                                                  \n",
      "Covariance Type:            nonrobust                                                  \n",
      "==============================================================================\n",
      "                 coef    std err          t      P>|t|      [0.025      0.975]\n",
      "------------------------------------------------------------------------------\n",
      "x1             0.1122      0.100      1.124      0.264      -0.086       0.310\n",
      "==============================================================================\n",
      "Omnibus:                        3.415   Durbin-Watson:                   2.069\n",
      "Prob(Omnibus):                  0.181   Jarque-Bera (JB):                3.641\n",
      "Skew:                           0.080   Prob(JB):                        0.162\n",
      "Kurtosis:                       3.921   Cond. No.                         1.00\n",
      "==============================================================================\n",
      "\n",
      "Notes:\n",
      "[1] R² is computed without centering (uncentered) since the model does not contain a constant.\n",
      "[2] Standard Errors assume that the covariance matrix of the errors is correctly specified.\n"
     ]
    }
   ],
   "source": [
    "mod=sm.OLS(x,y)\n",
    "res=mod.fit()\n",
    "print(res.summary())"
   ]
  },
  {
   "cell_type": "code",
   "execution_count": 21,
   "metadata": {},
   "outputs": [
    {
     "name": "stdout",
     "output_type": "stream",
     "text": [
      "                                 OLS Regression Results                                \n",
      "=======================================================================================\n",
      "Dep. Variable:                      y   R-squared (uncentered):                   0.013\n",
      "Model:                            OLS   Adj. R-squared (uncentered):              0.003\n",
      "Method:                 Least Squares   F-statistic:                              1.263\n",
      "Date:                Sun, 11 Apr 2021   Prob (F-statistic):                       0.264\n",
      "Time:                        03:55:52   Log-Likelihood:                         -139.31\n",
      "No. Observations:                 100   AIC:                                      280.6\n",
      "Df Residuals:                      99   BIC:                                      283.2\n",
      "Df Model:                           1                                                  \n",
      "Covariance Type:            nonrobust                                                  \n",
      "==============================================================================\n",
      "                 coef    std err          t      P>|t|      [0.025      0.975]\n",
      "------------------------------------------------------------------------------\n",
      "x1             0.1122      0.100      1.124      0.264      -0.086       0.310\n",
      "==============================================================================\n",
      "Omnibus:                        4.686   Durbin-Watson:                   2.122\n",
      "Prob(Omnibus):                  0.096   Jarque-Bera (JB):                6.253\n",
      "Skew:                          -0.059   Prob(JB):                       0.0439\n",
      "Kurtosis:                       4.219   Cond. No.                         1.00\n",
      "==============================================================================\n",
      "\n",
      "Notes:\n",
      "[1] R² is computed without centering (uncentered) since the model does not contain a constant.\n",
      "[2] Standard Errors assume that the covariance matrix of the errors is correctly specified.\n"
     ]
    }
   ],
   "source": [
    "mod=sm.OLS(y,x)\n",
    "res=mod.fit()\n",
    "print(res.summary())"
   ]
  },
  {
   "cell_type": "code",
   "execution_count": null,
   "metadata": {},
   "outputs": [],
   "source": []
  }
 ],
 "metadata": {
  "kernelspec": {
   "display_name": "Python 3",
   "language": "python",
   "name": "python3"
  },
  "language_info": {
   "codemirror_mode": {
    "name": "ipython",
    "version": 3
   },
   "file_extension": ".py",
   "mimetype": "text/x-python",
   "name": "python",
   "nbconvert_exporter": "python",
   "pygments_lexer": "ipython3",
   "version": "3.8.5"
  }
 },
 "nbformat": 4,
 "nbformat_minor": 4
}
