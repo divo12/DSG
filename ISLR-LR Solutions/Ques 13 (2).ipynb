{
 "cells": [
  {
   "cell_type": "code",
   "execution_count": 1,
   "metadata": {},
   "outputs": [],
   "source": [
    "import pandas as pd  \n",
    "import numpy as np  \n",
    "import matplotlib.pyplot as plt  \n",
    "import seaborn as seabornInstance \n",
    "from sklearn.model_selection import train_test_split \n",
    "from sklearn.linear_model import LinearRegression\n",
    "from sklearn import metrics\n",
    "import statsmodels.api as sm\n",
    "from patsy import dmatrices\n",
    "import random as rn\n",
    "import seaborn as seabornInstance "
   ]
  },
  {
   "cell_type": "code",
   "execution_count": 2,
   "metadata": {},
   "outputs": [],
   "source": [
    "rn.seed(1)"
   ]
  },
  {
   "cell_type": "code",
   "execution_count": 3,
   "metadata": {},
   "outputs": [],
   "source": [
    "#13a\n",
    "x=np.random.normal(0,1,100)"
   ]
  },
  {
   "cell_type": "code",
   "execution_count": 4,
   "metadata": {},
   "outputs": [],
   "source": [
    "#13b\n",
    "eps=np.random.normal(0,0.25,100)"
   ]
  },
  {
   "cell_type": "code",
   "execution_count": 5,
   "metadata": {},
   "outputs": [
    {
     "name": "stdout",
     "output_type": "stream",
     "text": [
      "[-1.1542308  -1.65124462 -1.08232704 -1.10974769 -0.22838519 -1.12285008\n",
      " -0.69483908 -0.54359159 -1.14795034 -1.39700477 -1.9355536  -0.62479366\n",
      " -0.98033401 -1.08365288 -0.20827067 -0.87967289 -1.50225142 -1.44254389\n",
      " -1.54284619  1.22605032 -0.29271252 -0.81229066 -1.19256392 -1.05648434\n",
      " -0.85114148 -0.44093551 -1.2138421  -0.31131877 -0.85101064 -0.89996245\n",
      "  0.04854337  0.04320325 -0.76996684 -0.78824802 -1.62596966 -0.8433105\n",
      " -0.55546101 -1.59472221 -1.43856632 -0.96085568 -1.01828568 -0.01757116\n",
      " -1.3583697  -1.34161413 -1.47636278 -0.72511793 -0.52557549 -0.15353441\n",
      " -0.74352544 -0.79364991 -1.25874608 -1.88409342 -1.31532421 -1.22913708\n",
      " -1.94418539 -0.56272313 -0.63209725 -0.20101469 -0.55958726 -2.07497374\n",
      " -1.09189778 -1.15940166 -1.79185289  0.08245845 -0.40570095 -0.54168477\n",
      " -0.6175136  -0.55555618  0.31544552 -1.34042428 -1.64207886 -0.71033857\n",
      " -1.2860318  -1.4303556  -1.12854525 -0.98493396 -0.86396959 -0.72107015\n",
      " -0.98493496 -0.66094763 -1.31506376 -0.0983696  -1.75994845 -1.32663077\n",
      " -1.39479667 -0.51505635 -0.99621292 -0.90823374 -1.85832938 -0.36551821\n",
      " -1.84610089 -1.39312755 -0.84563329 -1.18160782 -2.20007639 -0.70979075\n",
      " -1.26647234 -1.68974058 -0.18914384 -0.88596386]\n"
     ]
    }
   ],
   "source": [
    "#13c\n",
    "y=-1+0.5*x+eps\n",
    "print(y)"
   ]
  },
  {
   "cell_type": "code",
   "execution_count": 6,
   "metadata": {},
   "outputs": [
    {
     "data": {
      "text/plain": [
       "100"
      ]
     },
     "execution_count": 6,
     "metadata": {},
     "output_type": "execute_result"
    }
   ],
   "source": [
    "len(y)"
   ]
  },
  {
   "cell_type": "code",
   "execution_count": 7,
   "metadata": {},
   "outputs": [
    {
     "name": "stdout",
     "output_type": "stream",
     "text": [
      "[[-1.46123637e-01 -7.10820482e-01  7.92956329e-02 -1.32811643e-01\n",
      "   1.41956403e+00 -5.57229259e-01  1.05753042e+00  1.27199643e+00\n",
      "   3.00617831e-01 -3.52715166e-03 -4.05125306e-01  6.48619743e-01\n",
      "  -3.15545273e-01 -1.28872335e-01  1.04102775e+00  7.96409546e-01\n",
      "  -4.44287894e-01  1.02132656e-01 -6.66069738e-01  2.93793156e+00\n",
      "   1.32318369e+00 -6.76222416e-01 -4.86225563e-01 -7.74990105e-02\n",
      "  -3.84698607e-01  6.63264418e-01  9.36732497e-01  1.09539197e+00\n",
      "   3.90606177e-01 -3.28731191e-01  1.40561504e+00  2.63223727e+00\n",
      "  -3.43072044e-01  5.64553175e-01 -8.19614837e-01 -3.77013094e-02\n",
      "  -3.79440957e-01 -1.43165151e+00 -4.63264433e-01  7.81435270e-01\n",
      "  -1.50574196e-01  2.33749711e+00 -8.24955406e-02 -6.66460611e-01\n",
      "  -5.57530381e-01  9.64594719e-01  7.08075756e-01  1.03213304e+00\n",
      "  -4.07648270e-02  2.49263943e-01 -9.99771995e-01 -1.13038824e+00\n",
      "  -1.57479028e+00 -9.31768691e-01 -1.27111040e+00  5.46867787e-01\n",
      "   9.28355020e-02  2.09894672e+00  1.88039540e+00 -2.04017270e+00\n",
      "  -3.79676973e-02 -4.61972657e-01 -6.22613285e-01  1.70753135e+00\n",
      "   1.15675376e+00  1.77621004e+00  5.82809020e-01  6.97305214e-01\n",
      "   2.24676589e+00 -6.66165950e-01 -9.11213654e-01  5.89072370e-01\n",
      "  -8.33109582e-01 -1.21177624e+00 -9.58929618e-01  1.16822378e-01\n",
      "  -3.83749538e-01  7.00225809e-01 -4.30814123e-01  6.80618952e-01\n",
      "  -4.71885783e-01  1.15531755e+00 -1.31322532e+00 -3.41609315e-01\n",
      "  -5.19723960e-01  1.20239559e+00 -4.96629195e-01  9.49114932e-01\n",
      "  -9.81958628e-01  6.41264770e-01 -5.59777528e-01  1.35731482e-01\n",
      "   5.67192548e-01 -7.22563870e-01 -1.71884816e+00  1.51568466e-01\n",
      "   7.00011428e-04 -1.32928929e+00  1.28366869e+00  3.36623740e-01]\n",
      " [-1.15423080e+00 -1.65124462e+00 -1.08232704e+00 -1.10974769e+00\n",
      "  -2.28385187e-01 -1.12285008e+00 -6.94839080e-01 -5.43591593e-01\n",
      "  -1.14795034e+00 -1.39700477e+00 -1.93555360e+00 -6.24793664e-01\n",
      "  -9.80334011e-01 -1.08365288e+00 -2.08270670e-01 -8.79672893e-01\n",
      "  -1.50225142e+00 -1.44254389e+00 -1.54284619e+00  1.22605032e+00\n",
      "  -2.92712518e-01 -8.12290662e-01 -1.19256392e+00 -1.05648434e+00\n",
      "  -8.51141481e-01 -4.40935506e-01 -1.21384210e+00 -3.11318774e-01\n",
      "  -8.51010642e-01 -8.99962448e-01  4.85433672e-02  4.32032542e-02\n",
      "  -7.69966835e-01 -7.88248015e-01 -1.62596966e+00 -8.43310501e-01\n",
      "  -5.55461007e-01 -1.59472221e+00 -1.43856632e+00 -9.60855684e-01\n",
      "  -1.01828568e+00 -1.75711643e-02 -1.35836970e+00 -1.34161413e+00\n",
      "  -1.47636278e+00 -7.25117927e-01 -5.25575492e-01 -1.53534412e-01\n",
      "  -7.43525437e-01 -7.93649912e-01 -1.25874608e+00 -1.88409342e+00\n",
      "  -1.31532421e+00 -1.22913708e+00 -1.94418539e+00 -5.62723129e-01\n",
      "  -6.32097250e-01 -2.01014689e-01 -5.59587260e-01 -2.07497374e+00\n",
      "  -1.09189778e+00 -1.15940166e+00 -1.79185289e+00  8.24584473e-02\n",
      "  -4.05700945e-01 -5.41684774e-01 -6.17513599e-01 -5.55556182e-01\n",
      "   3.15445524e-01 -1.34042428e+00 -1.64207886e+00 -7.10338569e-01\n",
      "  -1.28603180e+00 -1.43035560e+00 -1.12854525e+00 -9.84933959e-01\n",
      "  -8.63969592e-01 -7.21070147e-01 -9.84934961e-01 -6.60947626e-01\n",
      "  -1.31506376e+00 -9.83696009e-02 -1.75994845e+00 -1.32663077e+00\n",
      "  -1.39479667e+00 -5.15056347e-01 -9.96212924e-01 -9.08233737e-01\n",
      "  -1.85832938e+00 -3.65518208e-01 -1.84610089e+00 -1.39312755e+00\n",
      "  -8.45633285e-01 -1.18160782e+00 -2.20007639e+00 -7.09790747e-01\n",
      "  -1.26647234e+00 -1.68974058e+00 -1.89143842e-01 -8.85963857e-01]]\n"
     ]
    }
   ],
   "source": [
    "array1=np.array([x,y])\n",
    "print(array1)"
   ]
  },
  {
   "cell_type": "code",
   "execution_count": 8,
   "metadata": {},
   "outputs": [],
   "source": [
    "array1=np.transpose(array1)\n"
   ]
  },
  {
   "cell_type": "code",
   "execution_count": 9,
   "metadata": {},
   "outputs": [],
   "source": [
    "dataset=pd.DataFrame(array1)"
   ]
  },
  {
   "cell_type": "code",
   "execution_count": 10,
   "metadata": {},
   "outputs": [
    {
     "name": "stdout",
     "output_type": "stream",
     "text": [
      "           0         1\n",
      "0  -0.146124 -1.154231\n",
      "1  -0.710820 -1.651245\n",
      "2   0.079296 -1.082327\n",
      "3  -0.132812 -1.109748\n",
      "4   1.419564 -0.228385\n",
      "..       ...       ...\n",
      "95  0.151568 -0.709791\n",
      "96  0.000700 -1.266472\n",
      "97 -1.329289 -1.689741\n",
      "98  1.283669 -0.189144\n",
      "99  0.336624 -0.885964\n",
      "\n",
      "[100 rows x 2 columns]\n"
     ]
    }
   ],
   "source": [
    "print(dataset)"
   ]
  },
  {
   "cell_type": "code",
   "execution_count": 11,
   "metadata": {},
   "outputs": [
    {
     "data": {
      "text/plain": [
       "<seaborn.axisgrid.PairGrid at 0x2510eaf3460>"
      ]
     },
     "execution_count": 11,
     "metadata": {},
     "output_type": "execute_result"
    },
    {
     "data": {
      "image/png": "[encoded data removed]",
      "text/plain": [
       "<Figure size 360x360 with 6 Axes>"
      ]
     },
     "metadata": {
      "needs_background": "light"
     },
     "output_type": "display_data"
    }
   ],
   "source": [
    "#13d\n",
    "seabornInstance.pairplot(dataset)"
   ]
  },
  {
   "cell_type": "code",
   "execution_count": 12,
   "metadata": {},
   "outputs": [
    {
     "name": "stdout",
     "output_type": "stream",
     "text": [
      "                            OLS Regression Results                            \n",
      "==============================================================================\n",
      "Dep. Variable:                      y   R-squared:                       0.759\n",
      "Model:                            OLS   Adj. R-squared:                  0.757\n",
      "Method:                 Least Squares   F-statistic:                     308.7\n",
      "Date:                Tue, 13 Apr 2021   Prob (F-statistic):           4.76e-32\n",
      "Time:                        18:02:24   Log-Likelihood:                -14.977\n",
      "No. Observations:                 100   AIC:                             33.95\n",
      "Df Residuals:                      98   BIC:                             39.16\n",
      "Df Model:                           1                                         \n",
      "Covariance Type:            nonrobust                                         \n",
      "==============================================================================\n",
      "                 coef    std err          t      P>|t|      [0.025      0.975]\n",
      "------------------------------------------------------------------------------\n",
      "Intercept     -1.0199      0.029    -35.630      0.000      -1.077      -0.963\n",
      "x              0.5043      0.029     17.571      0.000       0.447       0.561\n",
      "==============================================================================\n",
      "Omnibus:                        0.018   Durbin-Watson:                   1.925\n",
      "Prob(Omnibus):                  0.991   Jarque-Bera (JB):                0.075\n",
      "Skew:                          -0.029   Prob(JB):                        0.963\n",
      "Kurtosis:                       2.879   Cond. No.                         1.14\n",
      "==============================================================================\n",
      "\n",
      "Notes:\n",
      "[1] Standard Errors assume that the covariance matrix of the errors is correctly specified.\n"
     ]
    }
   ],
   "source": [
    "#13e\n",
    "y,x=dmatrices('y~x')\n",
    "mod=sm.OLS(y,x)\n",
    "res=mod.fit()\n",
    "print(res.summary())"
   ]
  },
  {
   "cell_type": "code",
   "execution_count": 13,
   "metadata": {},
   "outputs": [],
   "source": [
    "y_pop=-1+0.5*np.delete(x,0,1)"
   ]
  },
  {
   "cell_type": "code",
   "execution_count": 14,
   "metadata": {},
   "outputs": [
    {
     "data": {
      "text/plain": [
       "Text(0, 0.5, 'y')"
      ]
     },
     "execution_count": 14,
     "metadata": {},
     "output_type": "execute_result"
    },
    {
     "data": {
      "image/png": "[encoded data removed]",
      "text/plain": [
       "<Figure size 432x288 with 1 Axes>"
      ]
     },
     "metadata": {
      "needs_background": "light"
     },
     "output_type": "display_data"
    }
   ],
   "source": [
    "#13f\n",
    "plt.scatter(np.delete(x,0,1),y,color='green')\n",
    "plt.plot(np.delete(x,0,1),y_pop,color='red')\n",
    "pred_y=res.predict(x)\n",
    "plt.plot(np.delete(x,0,1),pred_y,color='blue')\n",
    "plt.xlabel(\"x\")\n",
    "plt.ylabel(\"y\")\n"
   ]
  },
  {
   "cell_type": "code",
   "execution_count": 15,
   "metadata": {},
   "outputs": [],
   "source": [
    "#13g\n",
    "x_new=np.column_stack((x,np.delete(x,0,1)**2))"
   ]
  },
  {
   "cell_type": "code",
   "execution_count": 16,
   "metadata": {},
   "outputs": [
    {
     "name": "stdout",
     "output_type": "stream",
     "text": [
      "                            OLS Regression Results                            \n",
      "==============================================================================\n",
      "Dep. Variable:                      y   R-squared:                       0.760\n",
      "Model:                            OLS   Adj. R-squared:                  0.755\n",
      "Method:                 Least Squares   F-statistic:                     153.8\n",
      "Date:                Tue, 13 Apr 2021   Prob (F-statistic):           8.37e-31\n",
      "Time:                        18:02:25   Log-Likelihood:                -14.741\n",
      "No. Observations:                 100   AIC:                             35.48\n",
      "Df Residuals:                      97   BIC:                             43.30\n",
      "Df Model:                           2                                         \n",
      "Covariance Type:            nonrobust                                         \n",
      "==============================================================================\n",
      "                 coef    std err          t      P>|t|      [0.025      0.975]\n",
      "------------------------------------------------------------------------------\n",
      "const         -1.0334      0.035    -29.593      0.000      -1.103      -0.964\n",
      "x1             0.4935      0.033     15.032      0.000       0.428       0.559\n",
      "x2             0.0149      0.022      0.678      0.499      -0.029       0.059\n",
      "==============================================================================\n",
      "Omnibus:                        0.352   Durbin-Watson:                   1.947\n",
      "Prob(Omnibus):                  0.839   Jarque-Bera (JB):                0.519\n",
      "Skew:                          -0.088   Prob(JB):                        0.771\n",
      "Kurtosis:                       2.694   Cond. No.                         2.77\n",
      "==============================================================================\n",
      "\n",
      "Notes:\n",
      "[1] Standard Errors assume that the covariance matrix of the errors is correctly specified.\n"
     ]
    }
   ],
   "source": [
    "mod2=sm.OLS(y,x_new)\n",
    "res2=mod2.fit()\n",
    "print(res2.summary())"
   ]
  },
  {
   "cell_type": "code",
   "execution_count": 17,
   "metadata": {},
   "outputs": [
    {
     "name": "stdout",
     "output_type": "stream",
     "text": [
      "[[-1.55503401 -1.31307719 -1.56256617 ... -0.68220506 -0.74180742\n",
      "  -1.5090523 ]\n",
      " [-0.05367973  0.18827709 -0.06121189 ...  0.81914923  0.75954687\n",
      "  -0.00769801]\n",
      " [-2.86612375 -2.62416693 -2.87365591 ... -1.9932948  -2.05289715\n",
      "  -2.82014204]\n",
      " ...\n",
      " [-1.25255192 -1.01059509 -1.26008408 ... -0.37972296 -0.43932532\n",
      "  -1.2065702 ]\n",
      " [-0.44035612 -0.1983993  -0.44788828 ...  0.43247283  0.37287047\n",
      "  -0.39437441]\n",
      " [-0.35987671 -0.11791989 -0.36740887 ...  0.51295225  0.45334989\n",
      "  -0.313895  ]]\n"
     ]
    }
   ],
   "source": [
    "eps_lessnoise=np.random.normal(0,1,100)\n",
    "yless_noise=-1+0.5*np.delete(x,0,1)**2+eps_lessnoise\n",
    "print(np.transpose(yless_noise))"
   ]
  },
  {
   "cell_type": "code",
   "execution_count": 18,
   "metadata": {},
   "outputs": [],
   "source": [
    "#13h and i)\n",
    "x=np.random.normal(0,1,100)\n",
    "eps_lessn=np.random.normal(0,0.2,100)\n",
    "eps_moren=np.random.normal(0,1,100)\n",
    "y=-1+0.5*x+eps_lessn\n",
    "y2=-1+0.5*x+eps_moren"
   ]
  },
  {
   "cell_type": "code",
   "execution_count": 19,
   "metadata": {},
   "outputs": [
    {
     "name": "stdout",
     "output_type": "stream",
     "text": [
      "                            OLS Regression Results                            \n",
      "==============================================================================\n",
      "Dep. Variable:                      y   R-squared:                       0.759\n",
      "Model:                            OLS   Adj. R-squared:                  0.757\n",
      "Method:                 Least Squares   F-statistic:                     308.7\n",
      "Date:                Tue, 13 Apr 2021   Prob (F-statistic):           4.76e-32\n",
      "Time:                        18:02:25   Log-Likelihood:                -14.977\n",
      "No. Observations:                 100   AIC:                             33.95\n",
      "Df Residuals:                      98   BIC:                             39.16\n",
      "Df Model:                           1                                         \n",
      "Covariance Type:            nonrobust                                         \n",
      "==============================================================================\n",
      "                 coef    std err          t      P>|t|      [0.025      0.975]\n",
      "------------------------------------------------------------------------------\n",
      "Intercept     -1.0199      0.029    -35.630      0.000      -1.077      -0.963\n",
      "x              0.5043      0.029     17.571      0.000       0.447       0.561\n",
      "==============================================================================\n",
      "Omnibus:                        0.018   Durbin-Watson:                   1.925\n",
      "Prob(Omnibus):                  0.991   Jarque-Bera (JB):                0.075\n",
      "Skew:                          -0.029   Prob(JB):                        0.963\n",
      "Kurtosis:                       2.879   Cond. No.                         1.14\n",
      "==============================================================================\n",
      "\n",
      "Notes:\n",
      "[1] Standard Errors assume that the covariance matrix of the errors is correctly specified.\n"
     ]
    }
   ],
   "source": [
    "y,x=dmatrices('y~x')\n",
    "mod2=sm.OLS(y,x)\n",
    "res2=mod.fit()\n",
    "print(res2.summary())"
   ]
  },
  {
   "cell_type": "code",
   "execution_count": 20,
   "metadata": {},
   "outputs": [
    {
     "name": "stdout",
     "output_type": "stream",
     "text": [
      "                            OLS Regression Results                            \n",
      "==============================================================================\n",
      "Dep. Variable:                     y2   R-squared:                       0.367\n",
      "Model:                            OLS   Adj. R-squared:                  0.361\n",
      "Method:                 Least Squares   F-statistic:                     56.92\n",
      "Date:                Tue, 13 Apr 2021   Prob (F-statistic):           2.35e-11\n",
      "Time:                        18:02:25   Log-Likelihood:                -145.62\n",
      "No. Observations:                 100   AIC:                             295.2\n",
      "Df Residuals:                      98   BIC:                             300.5\n",
      "Df Model:                           1                                         \n",
      "Covariance Type:            nonrobust                                         \n",
      "==============================================================================\n",
      "                 coef    std err          t      P>|t|      [0.025      0.975]\n",
      "------------------------------------------------------------------------------\n",
      "Intercept     -0.4473      0.053     -8.516      0.000      -0.552      -0.343\n",
      "x[0]          -0.4473      0.053     -8.516      0.000      -0.552      -0.343\n",
      "x[1]           0.7745      0.103      7.544      0.000       0.571       0.978\n",
      "==============================================================================\n",
      "Omnibus:                        6.133   Durbin-Watson:                   1.797\n",
      "Prob(Omnibus):                  0.047   Jarque-Bera (JB):                7.538\n",
      "Skew:                          -0.290   Prob(JB):                       0.0231\n",
      "Kurtosis:                       4.214   Cond. No.                     5.00e+16\n",
      "==============================================================================\n",
      "\n",
      "Notes:\n",
      "[1] Standard Errors assume that the covariance matrix of the errors is correctly specified.\n",
      "[2] The smallest eigenvalue is 8.02e-32. This might indicate that there are\n",
      "strong multicollinearity problems or that the design matrix is singular.\n"
     ]
    }
   ],
   "source": [
    "y,x=dmatrices('y2~x')\n",
    "mod3=sm.OLS(y,x)\n",
    "res3=mod3.fit()\n",
    "print(res3.summary())"
   ]
  },
  {
   "cell_type": "code",
   "execution_count": 21,
   "metadata": {},
   "outputs": [
    {
     "data": {
      "text/html": [
       "<div>\n",
       "<style scoped>\n",
       "    .dataframe tbody tr th:only-of-type {\n",
       "        vertical-align: middle;\n",
       "    }\n",
       "\n",
       "    .dataframe tbody tr th {\n",
       "        vertical-align: top;\n",
       "    }\n",
       "\n",
       "    .dataframe thead th {\n",
       "        text-align: right;\n",
       "    }\n",
       "</style>\n",
       "<table border=\"1\" class=\"dataframe\">\n",
       "  <thead>\n",
       "    <tr style=\"text-align: right;\">\n",
       "      <th></th>\n",
       "      <th>mean</th>\n",
       "      <th>mean_se</th>\n",
       "      <th>mean_ci_lower</th>\n",
       "      <th>mean_ci_upper</th>\n",
       "      <th>obs_ci_lower</th>\n",
       "      <th>obs_ci_upper</th>\n",
       "    </tr>\n",
       "  </thead>\n",
       "  <tbody>\n",
       "    <tr>\n",
       "      <th>0</th>\n",
       "      <td>-0.433006</td>\n",
       "      <td>0.032856</td>\n",
       "      <td>-0.498208</td>\n",
       "      <td>-0.367805</td>\n",
       "      <td>-1.000196</td>\n",
       "      <td>0.134183</td>\n",
       "    </tr>\n",
       "    <tr>\n",
       "      <th>1</th>\n",
       "      <td>-0.107711</td>\n",
       "      <td>0.049138</td>\n",
       "      <td>-0.205223</td>\n",
       "      <td>-0.010199</td>\n",
       "      <td>-0.679516</td>\n",
       "      <td>0.464094</td>\n",
       "    </tr>\n",
       "    <tr>\n",
       "      <th>2</th>\n",
       "      <td>-0.626647</td>\n",
       "      <td>0.031430</td>\n",
       "      <td>-0.689020</td>\n",
       "      <td>-0.564275</td>\n",
       "      <td>-1.193519</td>\n",
       "      <td>-0.059776</td>\n",
       "    </tr>\n",
       "    <tr>\n",
       "      <th>3</th>\n",
       "      <td>-0.424152</td>\n",
       "      <td>0.031591</td>\n",
       "      <td>-0.486842</td>\n",
       "      <td>-0.361461</td>\n",
       "      <td>-0.991058</td>\n",
       "      <td>0.142755</td>\n",
       "    </tr>\n",
       "    <tr>\n",
       "      <th>4</th>\n",
       "      <td>-1.562943</td>\n",
       "      <td>0.041973</td>\n",
       "      <td>-1.646238</td>\n",
       "      <td>-1.479648</td>\n",
       "      <td>-2.132496</td>\n",
       "      <td>-0.993390</td>\n",
       "    </tr>\n",
       "    <tr>\n",
       "      <th>...</th>\n",
       "      <td>...</td>\n",
       "      <td>...</td>\n",
       "      <td>...</td>\n",
       "      <td>...</td>\n",
       "      <td>...</td>\n",
       "      <td>...</td>\n",
       "    </tr>\n",
       "    <tr>\n",
       "      <th>95</th>\n",
       "      <td>-0.512501</td>\n",
       "      <td>0.021359</td>\n",
       "      <td>-0.554888</td>\n",
       "      <td>-0.470114</td>\n",
       "      <td>-1.077522</td>\n",
       "      <td>0.052521</td>\n",
       "    </tr>\n",
       "    <tr>\n",
       "      <th>96</th>\n",
       "      <td>-0.639347</td>\n",
       "      <td>0.036348</td>\n",
       "      <td>-0.711479</td>\n",
       "      <td>-0.567215</td>\n",
       "      <td>-1.207375</td>\n",
       "      <td>-0.071319</td>\n",
       "    </tr>\n",
       "    <tr>\n",
       "      <th>97</th>\n",
       "      <td>0.503637</td>\n",
       "      <td>0.057708</td>\n",
       "      <td>0.389117</td>\n",
       "      <td>0.618158</td>\n",
       "      <td>-0.071313</td>\n",
       "      <td>1.078587</td>\n",
       "    </tr>\n",
       "    <tr>\n",
       "      <th>98</th>\n",
       "      <td>-1.404559</td>\n",
       "      <td>0.037819</td>\n",
       "      <td>-1.479610</td>\n",
       "      <td>-1.329508</td>\n",
       "      <td>-1.972965</td>\n",
       "      <td>-0.836153</td>\n",
       "    </tr>\n",
       "    <tr>\n",
       "      <th>99</th>\n",
       "      <td>-0.790071</td>\n",
       "      <td>0.028312</td>\n",
       "      <td>-0.846257</td>\n",
       "      <td>-0.733886</td>\n",
       "      <td>-1.356295</td>\n",
       "      <td>-0.223848</td>\n",
       "    </tr>\n",
       "  </tbody>\n",
       "</table>\n",
       "<p>100 rows × 6 columns</p>\n",
       "</div>"
      ],
      "text/plain": [
       "        mean   mean_se  mean_ci_lower  mean_ci_upper  obs_ci_lower  \\\n",
       "0  -0.433006  0.032856      -0.498208      -0.367805     -1.000196   \n",
       "1  -0.107711  0.049138      -0.205223      -0.010199     -0.679516   \n",
       "2  -0.626647  0.031430      -0.689020      -0.564275     -1.193519   \n",
       "3  -0.424152  0.031591      -0.486842      -0.361461     -0.991058   \n",
       "4  -1.562943  0.041973      -1.646238      -1.479648     -2.132496   \n",
       "..       ...       ...            ...            ...           ...   \n",
       "95 -0.512501  0.021359      -0.554888      -0.470114     -1.077522   \n",
       "96 -0.639347  0.036348      -0.711479      -0.567215     -1.207375   \n",
       "97  0.503637  0.057708       0.389117       0.618158     -0.071313   \n",
       "98 -1.404559  0.037819      -1.479610      -1.329508     -1.972965   \n",
       "99 -0.790071  0.028312      -0.846257      -0.733886     -1.356295   \n",
       "\n",
       "    obs_ci_upper  \n",
       "0       0.134183  \n",
       "1       0.464094  \n",
       "2      -0.059776  \n",
       "3       0.142755  \n",
       "4      -0.993390  \n",
       "..           ...  \n",
       "95      0.052521  \n",
       "96     -0.071319  \n",
       "97      1.078587  \n",
       "98     -0.836153  \n",
       "99     -0.223848  \n",
       "\n",
       "[100 rows x 6 columns]"
      ]
     },
     "execution_count": 21,
     "metadata": {},
     "output_type": "execute_result"
    }
   ],
   "source": [
    "predictions = res.get_prediction(dataset)\n",
    "predictions.summary_frame(alpha=0.05)"
   ]
  },
  {
   "cell_type": "code",
   "execution_count": 22,
   "metadata": {},
   "outputs": [],
   "source": [
    "#13j)"
   ]
  },
  {
   "cell_type": "code",
   "execution_count": 23,
   "metadata": {},
   "outputs": [
    {
     "data": {
      "text/plain": [
       "array([[-1.07667825, -0.96307085],\n",
       "       [ 0.44731028,  0.56121254]])"
      ]
     },
     "execution_count": 23,
     "metadata": {},
     "output_type": "execute_result"
    }
   ],
   "source": [
    "#less noisy\n",
    "res2.conf_int(alpha=0.05)"
   ]
  },
  {
   "cell_type": "code",
   "execution_count": 24,
   "metadata": {},
   "outputs": [
    {
     "data": {
      "text/plain": [
       "array([[-0.55150458, -0.34304757],\n",
       "       [-0.55150458, -0.34304757],\n",
       "       [ 0.57074959,  0.97818107]])"
      ]
     },
     "execution_count": 24,
     "metadata": {},
     "output_type": "execute_result"
    }
   ],
   "source": [
    "#more noisy\n",
    "res3.conf_int(alpha=0.05)"
   ]
  },
  {
   "cell_type": "code",
   "execution_count": 25,
   "metadata": {},
   "outputs": [
    {
     "data": {
      "text/plain": [
       "array([[-1.07667825, -0.96307085],\n",
       "       [ 0.44731028,  0.56121254]])"
      ]
     },
     "execution_count": 25,
     "metadata": {},
     "output_type": "execute_result"
    }
   ],
   "source": [
    "#original\n",
    "res.conf_int(alpha=0.05)"
   ]
  },
  {
   "cell_type": "code",
   "execution_count": null,
   "metadata": {},
   "outputs": [],
   "source": []
  }
 ],
 "metadata": {
  "kernelspec": {
   "display_name": "Python 3",
   "language": "python",
   "name": "python3"
  },
  "language_info": {
   "codemirror_mode": {
    "name": "ipython",
    "version": 3
   },
   "file_extension": ".py",
   "mimetype": "text/x-python",
   "name": "python",
   "nbconvert_exporter": "python",
   "pygments_lexer": "ipython3",
   "version": "3.8.5"
  }
 },
 "nbformat": 4,
 "nbformat_minor": 4
}
