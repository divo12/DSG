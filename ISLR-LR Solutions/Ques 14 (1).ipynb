{
 "cells": [
  {
   "cell_type": "code",
   "execution_count": 15,
   "metadata": {},
   "outputs": [],
   "source": [
    "import pandas as pd  \n",
    "import numpy as np  \n",
    "import matplotlib.pyplot as plt  \n",
    "import seaborn as seabornInstance \n",
    "from sklearn.model_selection import train_test_split \n",
    "from sklearn.linear_model import LinearRegression\n",
    "from sklearn import metrics\n",
    "import statsmodels.api as sm\n",
    "from patsy import dmatrices\n",
    "import random as rn\n",
    "import seaborn as seabornInstance "
   ]
  },
  {
   "cell_type": "code",
   "execution_count": 16,
   "metadata": {},
   "outputs": [],
   "source": [
    "#14a\n",
    "rn.seed(1)"
   ]
  },
  {
   "cell_type": "code",
   "execution_count": 17,
   "metadata": {},
   "outputs": [],
   "source": [
    "x1 = np.random.rand(100, 1)"
   ]
  },
  {
   "cell_type": "code",
   "execution_count": 18,
   "metadata": {},
   "outputs": [],
   "source": [
    "x2=0.5*x1+(np.random.normal(size = (100, 1)))/10"
   ]
  },
  {
   "cell_type": "code",
   "execution_count": 19,
   "metadata": {},
   "outputs": [],
   "source": [
    "y = 2 + 2*x1 + 0.3*x2 + np.random.normal(size = (100, 1))"
   ]
  },
  {
   "cell_type": "code",
   "execution_count": 20,
   "metadata": {},
   "outputs": [
    {
     "data": {
      "text/plain": [
       "array([[1.        , 0.81586207],\n",
       "       [0.81586207, 1.        ]])"
      ]
     },
     "execution_count": 20,
     "metadata": {},
     "output_type": "execute_result"
    }
   ],
   "source": [
    "#14b\n",
    "np.corrcoef(x1, x2, rowvar = False)"
   ]
  },
  {
   "cell_type": "code",
   "execution_count": 21,
   "metadata": {},
   "outputs": [
    {
     "data": {
      "text/plain": [
       "[Text(0.5, 0, 'x1'), Text(0, 0.5, 'x2')]"
      ]
     },
     "execution_count": 21,
     "metadata": {},
     "output_type": "execute_result"
    },
    {
     "data": {
      "image/png": "[encoded data removed]",
      "text/plain": [
       "<Figure size 720x576 with 1 Axes>"
      ]
     },
     "metadata": {
      "needs_background": "light"
     },
     "output_type": "display_data"
    }
   ],
   "source": [
    "fig = plt.figure(figsize = (10, 8))\n",
    "ax = plt.axes()\n",
    "ax.scatter(x1, x2)\n",
    "ax.set(xlabel = \"x1\", ylabel = \"x2\")"
   ]
  },
  {
   "cell_type": "markdown",
   "metadata": {},
   "source": [
    "14c"
   ]
  },
  {
   "cell_type": "code",
   "execution_count": 22,
   "metadata": {},
   "outputs": [
    {
     "name": "stdout",
     "output_type": "stream",
     "text": [
      "                            OLS Regression Results                            \n",
      "==============================================================================\n",
      "Dep. Variable:                      y   R-squared:                       0.281\n",
      "Model:                            OLS   Adj. R-squared:                  0.266\n",
      "Method:                 Least Squares   F-statistic:                     18.97\n",
      "Date:                Sat, 10 Apr 2021   Prob (F-statistic):           1.11e-07\n",
      "Time:                        17:45:40   Log-Likelihood:                -141.46\n",
      "No. Observations:                 100   AIC:                             288.9\n",
      "Df Residuals:                      97   BIC:                             296.7\n",
      "Df Model:                           2                                         \n",
      "Covariance Type:            nonrobust                                         \n",
      "==============================================================================\n",
      "                 coef    std err          t      P>|t|      [0.025      0.975]\n",
      "------------------------------------------------------------------------------\n",
      "const          2.0301      0.184     11.049      0.000       1.665       2.395\n",
      "x1             1.7607      0.608      2.897      0.005       0.554       2.967\n",
      "x2             0.7860      1.008      0.779      0.438      -1.215       2.787\n",
      "==============================================================================\n",
      "Omnibus:                        2.850   Durbin-Watson:                   2.380\n",
      "Prob(Omnibus):                  0.241   Jarque-Bera (JB):                1.779\n",
      "Skew:                          -0.030   Prob(JB):                        0.411\n",
      "Kurtosis:                       2.349   Cond. No.                         12.6\n",
      "==============================================================================\n",
      "\n",
      "Notes:\n",
      "[1] Standard Errors assume that the covariance matrix of the errors is correctly specified.\n"
     ]
    }
   ],
   "source": [
    "#14c\n",
    "x=np.hstack((x1, x2))#Stack arrays in sequence horizontally (column wise).\n",
    "mod=sm.OLS(y,sm.add_constant(x))\n",
    "res=mod.fit()\n",
    "print(res.summary())"
   ]
  },
  {
   "cell_type": "markdown",
   "metadata": {},
   "source": [
    "We cannot reject the null hypothesis for x2 due to high p value.x1 and const are very close to their real values and they are statistically significant in the model"
   ]
  },
  {
   "cell_type": "code",
   "execution_count": 23,
   "metadata": {
    "scrolled": false
   },
   "outputs": [
    {
     "name": "stdout",
     "output_type": "stream",
     "text": [
      "                            OLS Regression Results                            \n",
      "==============================================================================\n",
      "Dep. Variable:                      y   R-squared:                       0.277\n",
      "Model:                            OLS   Adj. R-squared:                  0.269\n",
      "Method:                 Least Squares   F-statistic:                     37.48\n",
      "Date:                Sat, 10 Apr 2021   Prob (F-statistic):           1.91e-08\n",
      "Time:                        17:45:47   Log-Likelihood:                -141.78\n",
      "No. Observations:                 100   AIC:                             287.6\n",
      "Df Residuals:                      98   BIC:                             292.8\n",
      "Df Model:                           1                                         \n",
      "Covariance Type:            nonrobust                                         \n",
      "==============================================================================\n",
      "                 coef    std err          t      P>|t|      [0.025      0.975]\n",
      "------------------------------------------------------------------------------\n",
      "const          2.0310      0.183     11.077      0.000       1.667       2.395\n",
      "x1             2.1472      0.351      6.122      0.000       1.451       2.843\n",
      "==============================================================================\n",
      "Omnibus:                        1.601   Durbin-Watson:                   2.388\n",
      "Prob(Omnibus):                  0.449   Jarque-Bera (JB):                1.257\n",
      "Skew:                          -0.017   Prob(JB):                        0.533\n",
      "Kurtosis:                       2.452   Cond. No.                         4.19\n",
      "==============================================================================\n",
      "\n",
      "Notes:\n",
      "[1] Standard Errors assume that the covariance matrix of the errors is correctly specified.\n"
     ]
    }
   ],
   "source": [
    "#14d\n",
    "mod2=sm.OLS(y,sm.add_constant(x1))\n",
    "res2=mod2.fit()\n",
    "print(res2.summary())"
   ]
  },
  {
   "cell_type": "code",
   "execution_count": 24,
   "metadata": {},
   "outputs": [
    {
     "name": "stdout",
     "output_type": "stream",
     "text": [
      "                            OLS Regression Results                            \n",
      "==============================================================================\n",
      "Dep. Variable:                      y   R-squared:                       0.219\n",
      "Model:                            OLS   Adj. R-squared:                  0.211\n",
      "Method:                 Least Squares   F-statistic:                     27.47\n",
      "Date:                Sat, 10 Apr 2021   Prob (F-statistic):           9.16e-07\n",
      "Time:                        17:45:53   Log-Likelihood:                -145.61\n",
      "No. Observations:                 100   AIC:                             295.2\n",
      "Df Residuals:                      98   BIC:                             300.4\n",
      "Df Model:                           1                                         \n",
      "Covariance Type:            nonrobust                                         \n",
      "==============================================================================\n",
      "                 coef    std err          t      P>|t|      [0.025      0.975]\n",
      "------------------------------------------------------------------------------\n",
      "const          2.2845      0.167     13.648      0.000       1.952       2.617\n",
      "x1             3.1695      0.605      5.241      0.000       1.969       4.369\n",
      "==============================================================================\n",
      "Omnibus:                        6.092   Durbin-Watson:                   2.257\n",
      "Prob(Omnibus):                  0.048   Jarque-Bera (JB):                2.891\n",
      "Skew:                          -0.116   Prob(JB):                        0.236\n",
      "Kurtosis:                       2.200   Cond. No.                         6.04\n",
      "==============================================================================\n",
      "\n",
      "Notes:\n",
      "[1] Standard Errors assume that the covariance matrix of the errors is correctly specified.\n"
     ]
    }
   ],
   "source": [
    "#14e\n",
    "mod3=sm.OLS(y,sm.add_constant(x2))\n",
    "res3=mod3.fit()\n",
    "print(res3.summary())"
   ]
  },
  {
   "cell_type": "code",
   "execution_count": 29,
   "metadata": {},
   "outputs": [],
   "source": [
    "#14g\n",
    "x1_new = np.concatenate((x1, [[0.1]]))\n",
    "x2_new = np.concatenate((x2, [[0.8]]))\n",
    "y_new = np.concatenate((y, [[6]]))"
   ]
  },
  {
   "cell_type": "code",
   "execution_count": 30,
   "metadata": {},
   "outputs": [
    {
     "name": "stdout",
     "output_type": "stream",
     "text": [
      "                            OLS Regression Results                            \n",
      "==============================================================================\n",
      "Dep. Variable:                      y   R-squared:                       0.283\n",
      "Model:                            OLS   Adj. R-squared:                  0.268\n",
      "Method:                 Least Squares   F-statistic:                     19.30\n",
      "Date:                Sat, 10 Apr 2021   Prob (F-statistic):           8.55e-08\n",
      "Time:                        17:48:41   Log-Likelihood:                -145.50\n",
      "No. Observations:                 101   AIC:                             297.0\n",
      "Df Residuals:                      98   BIC:                             304.8\n",
      "Df Model:                           2                                         \n",
      "Covariance Type:            nonrobust                                         \n",
      "==============================================================================\n",
      "                 coef    std err          t      P>|t|      [0.025      0.975]\n",
      "------------------------------------------------------------------------------\n",
      "const          2.0840      0.187     11.131      0.000       1.712       2.455\n",
      "x1             0.9461      0.525      1.801      0.075      -0.097       1.989\n",
      "x2             2.2774      0.832      2.737      0.007       0.626       3.929\n",
      "==============================================================================\n",
      "Omnibus:                        6.304   Durbin-Watson:                   2.292\n",
      "Prob(Omnibus):                  0.043   Jarque-Bera (JB):                2.811\n",
      "Skew:                          -0.041   Prob(JB):                        0.245\n",
      "Kurtosis:                       2.187   Cond. No.                         10.1\n",
      "==============================================================================\n",
      "\n",
      "Notes:\n",
      "[1] Standard Errors assume that the covariance matrix of the errors is correctly specified.\n"
     ]
    }
   ],
   "source": [
    "x_new=np.hstack((x1_new, x2_new))\n",
    "mod=sm.OLS(y_new,sm.add_constant(x_new))\n",
    "res=mod.fit()\n",
    "print(res.summary())"
   ]
  },
  {
   "cell_type": "code",
   "execution_count": 31,
   "metadata": {},
   "outputs": [
    {
     "name": "stdout",
     "output_type": "stream",
     "text": [
      "                            OLS Regression Results                            \n",
      "==============================================================================\n",
      "Dep. Variable:                      y   R-squared:                       0.228\n",
      "Model:                            OLS   Adj. R-squared:                  0.220\n",
      "Method:                 Least Squares   F-statistic:                     29.20\n",
      "Date:                Sat, 10 Apr 2021   Prob (F-statistic):           4.51e-07\n",
      "Time:                        17:48:41   Log-Likelihood:                -149.22\n",
      "No. Observations:                 101   AIC:                             302.4\n",
      "Df Residuals:                      99   BIC:                             307.7\n",
      "Df Model:                           1                                         \n",
      "Covariance Type:            nonrobust                                         \n",
      "==============================================================================\n",
      "                 coef    std err          t      P>|t|      [0.025      0.975]\n",
      "------------------------------------------------------------------------------\n",
      "const          2.1328      0.192     11.086      0.000       1.751       2.515\n",
      "x1             1.9981      0.370      5.404      0.000       1.264       2.732\n",
      "==============================================================================\n",
      "Omnibus:                        2.567   Durbin-Watson:                   2.202\n",
      "Prob(Omnibus):                  0.277   Jarque-Bera (JB):                1.949\n",
      "Skew:                           0.294   Prob(JB):                        0.377\n",
      "Kurtosis:                       3.344   Cond. No.                         4.17\n",
      "==============================================================================\n",
      "\n",
      "Notes:\n",
      "[1] Standard Errors assume that the covariance matrix of the errors is correctly specified.\n"
     ]
    }
   ],
   "source": [
    "mod2=sm.OLS(y_new,sm.add_constant(x1_new))\n",
    "res2=mod2.fit()\n",
    "print(res2.summary())"
   ]
  },
  {
   "cell_type": "code",
   "execution_count": 32,
   "metadata": {},
   "outputs": [
    {
     "name": "stdout",
     "output_type": "stream",
     "text": [
      "                            OLS Regression Results                            \n",
      "==============================================================================\n",
      "Dep. Variable:                      y   R-squared:                       0.259\n",
      "Model:                            OLS   Adj. R-squared:                  0.251\n",
      "Method:                 Least Squares   F-statistic:                     34.58\n",
      "Date:                Sat, 10 Apr 2021   Prob (F-statistic):           5.56e-08\n",
      "Time:                        17:48:42   Log-Likelihood:                -147.14\n",
      "No. Observations:                 101   AIC:                             298.3\n",
      "Df Residuals:                      99   BIC:                             303.5\n",
      "Df Model:                           1                                         \n",
      "Covariance Type:            nonrobust                                         \n",
      "==============================================================================\n",
      "                 coef    std err          t      P>|t|      [0.025      0.975]\n",
      "------------------------------------------------------------------------------\n",
      "const          2.2509      0.164     13.685      0.000       1.925       2.577\n",
      "x1             3.3736      0.574      5.880      0.000       2.235       4.512\n",
      "==============================================================================\n",
      "Omnibus:                        7.493   Durbin-Watson:                   2.258\n",
      "Prob(Omnibus):                  0.024   Jarque-Bera (JB):                3.277\n",
      "Skew:                          -0.130   Prob(JB):                        0.194\n",
      "Kurtosis:                       2.157   Cond. No.                         5.77\n",
      "==============================================================================\n",
      "\n",
      "Notes:\n",
      "[1] Standard Errors assume that the covariance matrix of the errors is correctly specified.\n"
     ]
    }
   ],
   "source": [
    "mod3=sm.OLS(y_new,sm.add_constant(x2_new))\n",
    "res3=mod3.fit()\n",
    "print(res3.summary())"
   ]
  },
  {
   "cell_type": "code",
   "execution_count": 33,
   "metadata": {},
   "outputs": [
    {
     "data": {
      "text/plain": [
       "<matplotlib.collections.PathCollection at 0x2345c5dd970>"
      ]
     },
     "execution_count": 33,
     "metadata": {},
     "output_type": "execute_result"
    },
    {
     "data": {
      "image/png": "[encoded data removed]",
      "text/plain": [
       "<Figure size 432x288 with 1 Axes>"
      ]
     },
     "metadata": {
      "needs_background": "light"
     },
     "output_type": "display_data"
    }
   ],
   "source": [
    "pred=res.fittedvalues\n",
    "model_residuals = res.resid\n",
    "model_norm_residuals =res.get_influence().resid_studentized_internal\n",
    "model_leverage = res.get_influence().hat_matrix_diag\n",
    "plt.scatter(pred,model_residuals)"
   ]
  },
  {
   "cell_type": "code",
   "execution_count": 34,
   "metadata": {},
   "outputs": [
    {
     "data": {
      "text/plain": [
       "<matplotlib.collections.PathCollection at 0x2345c618b50>"
      ]
     },
     "execution_count": 34,
     "metadata": {},
     "output_type": "execute_result"
    },
    {
     "data": {
      "image/png": "[encoded data removed]",
      "text/plain": [
       "<Figure size 432x288 with 1 Axes>"
      ]
     },
     "metadata": {
      "needs_background": "light"
     },
     "output_type": "display_data"
    }
   ],
   "source": [
    "plt.scatter(model_leverage,model_norm_residuals)\n"
   ]
  },
  {
   "cell_type": "code",
   "execution_count": 37,
   "metadata": {},
   "outputs": [
    {
     "data": {
      "text/plain": [
       "<matplotlib.collections.PathCollection at 0x2345d090cd0>"
      ]
     },
     "execution_count": 37,
     "metadata": {},
     "output_type": "execute_result"
    },
    {
     "data": {
      "image/png": "[encoded data removed]",
      "text/plain": [
       "<Figure size 432x288 with 1 Axes>"
      ]
     },
     "metadata": {
      "needs_background": "light"
     },
     "output_type": "display_data"
    }
   ],
   "source": [
    "pred=res2.fittedvalues\n",
    "model_residuals = res2.resid\n",
    "model_norm_residuals =res2.get_influence().resid_studentized_internal\n",
    "model_leverage = res2.get_influence().hat_matrix_diag\n",
    "plt.scatter(pred,model_residuals)"
   ]
  },
  {
   "cell_type": "code",
   "execution_count": 38,
   "metadata": {},
   "outputs": [
    {
     "data": {
      "text/plain": [
       "<matplotlib.collections.PathCollection at 0x2345d0efac0>"
      ]
     },
     "execution_count": 38,
     "metadata": {},
     "output_type": "execute_result"
    },
    {
     "data": {
      "image/png": "[encoded data removed]",
      "text/plain": [
       "<Figure size 432x288 with 1 Axes>"
      ]
     },
     "metadata": {
      "needs_background": "light"
     },
     "output_type": "display_data"
    }
   ],
   "source": [
    "plt.scatter(model_leverage,model_norm_residuals)"
   ]
  },
  {
   "cell_type": "code",
   "execution_count": 40,
   "metadata": {},
   "outputs": [
    {
     "data": {
      "text/plain": [
       "<matplotlib.collections.PathCollection at 0x2345e180190>"
      ]
     },
     "execution_count": 40,
     "metadata": {},
     "output_type": "execute_result"
    },
    {
     "data": {
      "image/png": "[encoded data removed]",
      "text/plain": [
       "<Figure size 432x288 with 1 Axes>"
      ]
     },
     "metadata": {
      "needs_background": "light"
     },
     "output_type": "display_data"
    }
   ],
   "source": [
    "pred=res3.fittedvalues\n",
    "model_residuals = res3.resid\n",
    "model_norm_residuals =res3.get_influence().resid_studentized_internal\n",
    "model_leverage = res3.get_influence().hat_matrix_diag\n",
    "plt.scatter(pred,model_residuals)"
   ]
  },
  {
   "cell_type": "code",
   "execution_count": 41,
   "metadata": {
    "scrolled": true
   },
   "outputs": [
    {
     "data": {
      "text/plain": [
       "<matplotlib.collections.PathCollection at 0x2345e1d1430>"
      ]
     },
     "execution_count": 41,
     "metadata": {},
     "output_type": "execute_result"
    },
    {
     "data": {
      "image/png": "[encoded data removed]",
      "text/plain": [
       "<Figure size 432x288 with 1 Axes>"
      ]
     },
     "metadata": {
      "needs_background": "light"
     },
     "output_type": "display_data"
    }
   ],
   "source": [
    "plt.scatter(model_leverage,model_norm_residuals)"
   ]
  },
  {
   "cell_type": "markdown",
   "metadata": {},
   "source": []
  }
 ],
 "metadata": {
  "kernelspec": {
   "display_name": "Python 3",
   "language": "python",
   "name": "python3"
  },
  "language_info": {
   "codemirror_mode": {
    "name": "ipython",
    "version": 3
   },
   "file_extension": ".py",
   "mimetype": "text/x-python",
   "name": "python",
   "nbconvert_exporter": "python",
   "pygments_lexer": "ipython3",
   "version": "3.8.5"
  }
 },
 "nbformat": 4,
 "nbformat_minor": 4
}
